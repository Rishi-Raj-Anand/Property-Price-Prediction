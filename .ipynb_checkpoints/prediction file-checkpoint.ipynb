{
 "cells": [
  {
   "cell_type": "code",
   "execution_count": 1,
   "id": "ae8607c4",
   "metadata": {},
   "outputs": [
    {
     "name": "stdout",
     "output_type": "stream",
     "text": [
      "Enter Square_footage value : 5\n",
      "The predicted price for Square Footage value of 5 is :$55231.84\n"
     ]
    }
   ],
   "source": [
    "import pickle\n",
    "import numpy as np\n",
    "import pandas as pd\n",
    "\n",
    "# Load the model\n",
    "with open('trained_model.pkl', 'rb') as file:\n",
    "    simple_model = pickle.load(file)\n",
    "    \n",
    "    \n",
    "# prediction\n",
    "Square_footage_value=int(input(\"Enter Square_footage value : \"))\n",
    "# convert it to 2D array for model\n",
    "Square_footage_value_array=np.array([[Square_footage_value]])\n",
    "\n",
    "# Convert to a DataFrame with the same column name as the training data\n",
    "Square_footage_value_df = pd.DataFrame([[Square_footage_value]], columns=['Square_Footage'])\n",
    "\n",
    "# predict price\n",
    "Predicted_price=simple_model.predict(Square_footage_value_df)\n",
    "\n",
    "# output\n",
    "print(f\"The predicted price for Square Footage value of {Square_footage_value} is :${Predicted_price[0]:.2f}\")\n"
   ]
  }
 ],
 "metadata": {
  "kernelspec": {
   "display_name": "Python 3 (ipykernel)",
   "language": "python",
   "name": "python3"
  },
  "language_info": {
   "codemirror_mode": {
    "name": "ipython",
    "version": 3
   },
   "file_extension": ".py",
   "mimetype": "text/x-python",
   "name": "python",
   "nbconvert_exporter": "python",
   "pygments_lexer": "ipython3",
   "version": "3.11.5"
  }
 },
 "nbformat": 4,
 "nbformat_minor": 5
}
